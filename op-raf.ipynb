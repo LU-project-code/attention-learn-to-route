{
 "cells": [
  {
   "cell_type": "code",
   "execution_count": null,
   "metadata": {},
   "outputs": [],
   "source": [
    "# from math import round\n",
    "import numpy as np\n",
    "import matplotlib.pyplot as plt\n",
    "\n",
    "import torch\n",
    "from torch.utils.data import DataLoader\n",
    "\n",
    "from utils import load_model\n",
    "from problems import OP"
   ]
  },
  {
   "cell_type": "markdown",
   "metadata": {},
   "source": [
    "# Orienteering Problem"
   ]
  },
  {
   "cell_type": "markdown",
   "metadata": {},
   "source": [
    "## Generate Dataset"
   ]
  },
  {
   "cell_type": "code",
   "execution_count": null,
   "metadata": {},
   "outputs": [],
   "source": [
    "# This is the methods that is used by calling make_dataset below\n",
    "\n",
    "# function for generating op dataset\n",
    "def generate_op_data(dataset_size, op_size, prize_type='const'):\n",
    "    depot = np.random.uniform(size=(dataset_size, 2))\n",
    "    loc = np.random.uniform(size=(dataset_size, op_size, 2))\n",
    "\n",
    "    # Methods taken from Fischetti et al. 1998\n",
    "    if prize_type == 'const':\n",
    "        prize = np.ones((dataset_size, op_size))\n",
    "    elif prize_type == 'unif':\n",
    "        prize = (1 + np.random.randint(0, 100, size=(dataset_size, op_size))) / 100.\n",
    "    else:  # Based on distance to depot\n",
    "        assert prize_type == 'dist'\n",
    "        prize_ = np.linalg.norm(depot[:, None, :] - loc, axis=-1)\n",
    "        prize = (1 + (prize_ / prize_.max(axis=-1, keepdims=True) * 99).astype(int)) / 100.\n",
    "\n",
    "    # Max length is approximately half of optimal TSP tour, such that half (a bit more) of the nodes can be visited\n",
    "    # which is maximally difficult as this has the largest number of possibilities\n",
    "    MAX_LENGTHS = {\n",
    "        20: 2.,\n",
    "        50: 3.,\n",
    "        100: 4.\n",
    "    }\n",
    "\n",
    "    return depot, loc, prize, np.full(dataset_size, MAX_LENGTHS[op_size])  # Capacity, same for whole dataset"
   ]
  },
  {
   "cell_type": "code",
   "execution_count": null,
   "metadata": {},
   "outputs": [],
   "source": [
    "# generate op data\n",
    "depot, loc, prize, max_length = generate_op_data(10000, 20)"
   ]
  },
  {
   "cell_type": "markdown",
   "metadata": {},
   "source": [
    "## Prizes with const distribution"
   ]
  },
  {
   "cell_type": "code",
   "execution_count": null,
   "metadata": {},
   "outputs": [],
   "source": [
    "n_samples = 10\n",
    "size = 20\n",
    "distribution = 'const' # distribution of prizes"
   ]
  },
  {
   "cell_type": "markdown",
   "metadata": {},
   "source": [
    "### Load Pretrained Model"
   ]
  },
  {
   "cell_type": "code",
   "execution_count": null,
   "metadata": {},
   "outputs": [],
   "source": [
    "model, _ = load_model(f'pretrained/op_{distribution}_{size}/')\n",
    "dataset = OP.make_dataset(size=size, num_samples=n_samples, distribution=distribution)"
   ]
  },
  {
   "cell_type": "markdown",
   "metadata": {},
   "source": [
    "### Visualize a scenario"
   ]
  },
  {
   "cell_type": "code",
   "execution_count": null,
   "metadata": {},
   "outputs": [],
   "source": [
    "# pick a scenario\n",
    "scenario = dataset.data[0]\n",
    "\n",
    "# plot an op graph\n",
    "plt.plot(scenario['loc'][:, 0], scenario['loc'][:, 1], 'o')\n",
    "\n",
    "# plot the depot\n",
    "plt.plot(scenario['depot'][0], scenario['depot'][1], 'o', color='red')\n",
    "\n",
    "# Add text to the plot\n",
    "for i in range(scenario['loc'].shape[0]):\n",
    "    plt.text(scenario['loc'][i, 0] + 0.01, scenario['loc'][i, 1] - 0.015, round(scenario['prize'][i].item(), 2))"
   ]
  },
  {
   "cell_type": "markdown",
   "metadata": {},
   "source": [
    "### Use the model to evaluate"
   ]
  },
  {
   "cell_type": "code",
   "execution_count": null,
   "metadata": {},
   "outputs": [],
   "source": [
    "# Need a dataloader to batch instances\n",
    "dataloader = DataLoader(dataset, batch_size=1000)\n",
    "\n",
    "# Make var works for dicts\n",
    "batch = next(iter(dataloader))\n",
    "\n",
    "# Run the model\n",
    "model.eval()\n",
    "model.set_decode_type('greedy')\n",
    "with torch.no_grad():\n",
    "    length, log_p, pi = model(batch, return_pi=True)\n",
    "tours = pi"
   ]
  },
  {
   "cell_type": "code",
   "execution_count": null,
   "metadata": {},
   "outputs": [],
   "source": [
    "# pick a scenario\n",
    "sel_scenario = 1\n",
    "scenario = dataset.data[sel_scenario]\n",
    "tour = tours[sel_scenario, :]\n",
    "\n",
    "# plot an op graph\n",
    "plt.plot(scenario['loc'][:, 0], scenario['loc'][:, 1], 'o')\n",
    "\n",
    "# plot the depot\n",
    "plt.plot(scenario['depot'][0], scenario['depot'][1], 'o', color='red')\n",
    "\n",
    "# Add text to the plot\n",
    "for i in range(scenario['loc'].shape[0]):\n",
    "    plt.text(scenario['loc'][i, 0] + 0.01, scenario['loc'][i, 1] - 0.015, round(scenario['prize'][i].item(), 2))\n",
    "\n",
    "start_x = scenario['depot'][0]\n",
    "start_y = scenario['depot'][1]\n",
    "for i, node in enumerate(tour):\n",
    "    if node != 0:\n",
    "        dx = scenario['loc'][(node - 1).item(), 0] - start_x\n",
    "        dy = scenario['loc'][(node - 1).item(), 1] - start_y\n",
    "        \n",
    "        plt.arrow(start_x, start_y, dx, dy,  length_includes_head=True, head_width=0.02,  facecolor='black')\n",
    "\n",
    "        start_x = scenario['loc'][(node - 1).item(), 0]\n",
    "        start_y = scenario['loc'][(node - 1).item(), 1]\n",
    "    "
   ]
  },
  {
   "cell_type": "markdown",
   "metadata": {},
   "source": [
    "## Prizes with uniform distribution"
   ]
  },
  {
   "cell_type": "code",
   "execution_count": null,
   "metadata": {},
   "outputs": [],
   "source": [
    "n_samples = 10\n",
    "size = 20\n",
    "distribution = 'unif' # distribution of prizes"
   ]
  },
  {
   "cell_type": "markdown",
   "metadata": {},
   "source": [
    "### Load Pretrained Model"
   ]
  },
  {
   "cell_type": "code",
   "execution_count": null,
   "metadata": {},
   "outputs": [],
   "source": [
    "model, _ = load_model(f'pretrained/op_{distribution}_{size}/')\n",
    "dataset = OP.make_dataset(size=size, num_samples=n_samples, distribution=distribution)"
   ]
  },
  {
   "cell_type": "markdown",
   "metadata": {},
   "source": [
    "### Visualize a scenario"
   ]
  },
  {
   "cell_type": "code",
   "execution_count": null,
   "metadata": {},
   "outputs": [],
   "source": [
    "# pick a scenario\n",
    "scenario = dataset.data[2]\n",
    "\n",
    "# plot an op graph\n",
    "plt.plot(scenario['loc'][:, 0], scenario['loc'][:, 1], 'o')\n",
    "\n",
    "# plot the depot\n",
    "plt.plot(scenario['depot'][0], scenario['depot'][1], 'o', color='red')\n",
    "\n",
    "# Add text to the plot\n",
    "for i in range(scenario['loc'].shape[0]):\n",
    "    plt.text(scenario['loc'][i, 0] + 0.01, scenario['loc'][i, 1] - 0.015, round(scenario['prize'][i].item(), 2))"
   ]
  },
  {
   "cell_type": "markdown",
   "metadata": {},
   "source": [
    "### Use the model to evaluate"
   ]
  },
  {
   "cell_type": "code",
   "execution_count": null,
   "metadata": {},
   "outputs": [],
   "source": [
    "# Need a dataloader to batch instances\n",
    "dataloader = DataLoader(dataset, batch_size=1000)\n",
    "\n",
    "# Make var works for dicts\n",
    "batch = next(iter(dataloader))\n",
    "\n",
    "# Run the model\n",
    "model.eval()\n",
    "model.set_decode_type('greedy')\n",
    "with torch.no_grad():\n",
    "    length, log_p, pi = model(batch, return_pi=True)\n",
    "tours = pi"
   ]
  },
  {
   "cell_type": "code",
   "execution_count": null,
   "metadata": {},
   "outputs": [],
   "source": [
    "# pick a scenario\n",
    "sel_scenario = 0\n",
    "scenario = dataset.data[sel_scenario]\n",
    "tour = tours[sel_scenario, :]\n",
    "\n",
    "# plot an op graph\n",
    "plt.plot(scenario['loc'][:, 0], scenario['loc'][:, 1], 'o')\n",
    "\n",
    "# plot the depot\n",
    "plt.plot(scenario['depot'][0], scenario['depot'][1], 'o', color='red')\n",
    "\n",
    "# Add text to the plot\n",
    "for i in range(scenario['loc'].shape[0]):\n",
    "    plt.text(scenario['loc'][i, 0] + 0.01, scenario['loc'][i, 1] - 0.015, round(scenario['prize'][i].item(), 2))\n",
    "\n",
    "start_x = scenario['depot'][0]\n",
    "start_y = scenario['depot'][1]\n",
    "for i, node in enumerate(tour):\n",
    "    if node != 0:\n",
    "        dx = scenario['loc'][(node - 1).item(), 0] - start_x\n",
    "        dy = scenario['loc'][(node - 1).item(), 1] - start_y\n",
    "        \n",
    "        plt.arrow(start_x, start_y, dx, dy,  length_includes_head=True, head_width=0.02,  facecolor='black')\n",
    "\n",
    "        start_x = scenario['loc'][(node - 1).item(), 0]\n",
    "        start_y = scenario['loc'][(node - 1).item(), 1]\n",
    "    "
   ]
  },
  {
   "cell_type": "code",
   "execution_count": null,
   "metadata": {},
   "outputs": [],
   "source": [
    "dataset.data[1]['max_length'] = torch.tensor(5.0)"
   ]
  },
  {
   "cell_type": "code",
   "execution_count": null,
   "metadata": {},
   "outputs": [],
   "source": [
    "dataset.data[0]['prize'] = torch.rand(20) * 0.2"
   ]
  },
  {
   "cell_type": "code",
   "execution_count": null,
   "metadata": {},
   "outputs": [],
   "source": [
    "torch.rand(10) * 0.2"
   ]
  },
  {
   "cell_type": "code",
   "execution_count": null,
   "metadata": {},
   "outputs": [],
   "source": [
    "dataset.data[0]['max_length']"
   ]
  },
  {
   "cell_type": "code",
   "execution_count": null,
   "metadata": {},
   "outputs": [],
   "source": [
    "dataset.data[0]['max_length'] = torch.tensor(4.0)"
   ]
  },
  {
   "cell_type": "markdown",
   "metadata": {},
   "source": [
    "# Training new models"
   ]
  },
  {
   "cell_type": "code",
   "execution_count": 10,
   "metadata": {},
   "outputs": [],
   "source": [
    "from run import run"
   ]
  },
  {
   "cell_type": "code",
   "execution_count": 13,
   "metadata": {},
   "outputs": [],
   "source": [
    "from options import get_options\n",
    "\n",
    "opts = get_options(['--problem', 'op', '--data_distribution', 'dist', '--baseline', 'rollout', '--resume', 'outputs/op_20/op20_rollout_20231214T134050/epoch-99.pt', '--run_name', 'op20_rollout'])"
   ]
  },
  {
   "cell_type": "code",
   "execution_count": 14,
   "metadata": {},
   "outputs": [
    {
     "name": "stdout",
     "output_type": "stream",
     "text": [
      "{'baseline': 'rollout',\n",
      " 'batch_size': 512,\n",
      " 'bl_alpha': 0.05,\n",
      " 'bl_warmup_epochs': 1,\n",
      " 'checkpoint_encoder': False,\n",
      " 'checkpoint_epochs': 1,\n",
      " 'data_distribution': 'dist',\n",
      " 'embedding_dim': 128,\n",
      " 'epoch_size': 1280000,\n",
      " 'epoch_start': 0,\n",
      " 'eval_batch_size': 1024,\n",
      " 'eval_only': False,\n",
      " 'exp_beta': 0.8,\n",
      " 'graph_size': 20,\n",
      " 'hidden_dim': 128,\n",
      " 'load_path': None,\n",
      " 'log_dir': 'logs',\n",
      " 'log_step': 50,\n",
      " 'lr_critic': 0.0001,\n",
      " 'lr_decay': 1.0,\n",
      " 'lr_model': 0.0001,\n",
      " 'max_grad_norm': 1.0,\n",
      " 'model': 'attention',\n",
      " 'n_encode_layers': 3,\n",
      " 'n_epochs': 100,\n",
      " 'no_cuda': False,\n",
      " 'no_progress_bar': False,\n",
      " 'no_tensorboard': False,\n",
      " 'normalization': 'batch',\n",
      " 'output_dir': 'outputs',\n",
      " 'problem': 'op',\n",
      " 'resume': 'outputs/op_20/op20_rollout_20231214T134050',\n",
      " 'run_name': 'op20_rollout_20231215T094727',\n",
      " 'save_dir': 'outputs/op_20/op20_rollout_20231215T094727',\n",
      " 'seed': 1234,\n",
      " 'shrink_size': None,\n",
      " 'tanh_clipping': 10.0,\n",
      " 'use_cuda': True,\n",
      " 'val_dataset': None,\n",
      " 'val_size': 10000}\n",
      "  [*] Loading data from outputs/op_20/op20_rollout_20231214T134050\n"
     ]
    },
    {
     "ename": "IsADirectoryError",
     "evalue": "[Errno 21] Is a directory: 'outputs/op_20/op20_rollout_20231214T134050'",
     "output_type": "error",
     "traceback": [
      "\u001b[0;31m---------------------------------------------------------------------------\u001b[0m",
      "\u001b[0;31mIsADirectoryError\u001b[0m                         Traceback (most recent call last)",
      "\u001b[1;32m/home/lunet/cosd5/projects/LU-project-code/attention-learn-to-route/op-raf.ipynb Cell 32\u001b[0m line \u001b[0;36m1\n\u001b[0;32m----> <a href='vscode-notebook-cell:/home/lunet/cosd5/projects/LU-project-code/attention-learn-to-route/op-raf.ipynb#X45sZmlsZQ%3D%3D?line=0'>1</a>\u001b[0m run(opts)\n",
      "File \u001b[0;32m~/projects/LU-project-code/attention-learn-to-route/run.py:50\u001b[0m, in \u001b[0;36mrun\u001b[0;34m(opts)\u001b[0m\n\u001b[1;32m     48\u001b[0m \u001b[39mif\u001b[39;00m load_path \u001b[39mis\u001b[39;00m \u001b[39mnot\u001b[39;00m \u001b[39mNone\u001b[39;00m:\n\u001b[1;32m     49\u001b[0m     \u001b[39mprint\u001b[39m(\u001b[39m'\u001b[39m\u001b[39m  [*] Loading data from \u001b[39m\u001b[39m{}\u001b[39;00m\u001b[39m'\u001b[39m\u001b[39m.\u001b[39mformat(load_path))\n\u001b[0;32m---> 50\u001b[0m     load_data \u001b[39m=\u001b[39m torch_load_cpu(load_path)\n\u001b[1;32m     52\u001b[0m \u001b[39m# Initialize model\u001b[39;00m\n\u001b[1;32m     53\u001b[0m model_class \u001b[39m=\u001b[39m {\n\u001b[1;32m     54\u001b[0m     \u001b[39m'\u001b[39m\u001b[39mattention\u001b[39m\u001b[39m'\u001b[39m: AttentionModel,\n\u001b[1;32m     55\u001b[0m     \u001b[39m'\u001b[39m\u001b[39mpointer\u001b[39m\u001b[39m'\u001b[39m: PointerNetwork\n\u001b[1;32m     56\u001b[0m }\u001b[39m.\u001b[39mget(opts\u001b[39m.\u001b[39mmodel, \u001b[39mNone\u001b[39;00m)\n",
      "File \u001b[0;32m~/projects/LU-project-code/attention-learn-to-route/utils/functions.py:28\u001b[0m, in \u001b[0;36mtorch_load_cpu\u001b[0;34m(load_path)\u001b[0m\n\u001b[1;32m     27\u001b[0m \u001b[39mdef\u001b[39;00m \u001b[39mtorch_load_cpu\u001b[39m(load_path):\n\u001b[0;32m---> 28\u001b[0m     \u001b[39mreturn\u001b[39;00m torch\u001b[39m.\u001b[39;49mload(load_path, map_location\u001b[39m=\u001b[39;49m\u001b[39mlambda\u001b[39;49;00m storage, loc: storage)\n",
      "File \u001b[0;32m~/projects/venv/machine_learning/lib/python3.10/site-packages/torch/serialization.py:986\u001b[0m, in \u001b[0;36mload\u001b[0;34m(f, map_location, pickle_module, weights_only, mmap, **pickle_load_args)\u001b[0m\n\u001b[1;32m    983\u001b[0m \u001b[39mif\u001b[39;00m \u001b[39m'\u001b[39m\u001b[39mencoding\u001b[39m\u001b[39m'\u001b[39m \u001b[39mnot\u001b[39;00m \u001b[39min\u001b[39;00m pickle_load_args\u001b[39m.\u001b[39mkeys():\n\u001b[1;32m    984\u001b[0m     pickle_load_args[\u001b[39m'\u001b[39m\u001b[39mencoding\u001b[39m\u001b[39m'\u001b[39m] \u001b[39m=\u001b[39m \u001b[39m'\u001b[39m\u001b[39mutf-8\u001b[39m\u001b[39m'\u001b[39m\n\u001b[0;32m--> 986\u001b[0m \u001b[39mwith\u001b[39;00m _open_file_like(f, \u001b[39m'\u001b[39;49m\u001b[39mrb\u001b[39;49m\u001b[39m'\u001b[39;49m) \u001b[39mas\u001b[39;00m opened_file:\n\u001b[1;32m    987\u001b[0m     \u001b[39mif\u001b[39;00m _is_zipfile(opened_file):\n\u001b[1;32m    988\u001b[0m         \u001b[39m# The zipfile reader is going to advance the current file position.\u001b[39;00m\n\u001b[1;32m    989\u001b[0m         \u001b[39m# If we want to actually tail call to torch.jit.load, we need to\u001b[39;00m\n\u001b[1;32m    990\u001b[0m         \u001b[39m# reset back to the original position.\u001b[39;00m\n\u001b[1;32m    991\u001b[0m         orig_position \u001b[39m=\u001b[39m opened_file\u001b[39m.\u001b[39mtell()\n",
      "File \u001b[0;32m~/projects/venv/machine_learning/lib/python3.10/site-packages/torch/serialization.py:435\u001b[0m, in \u001b[0;36m_open_file_like\u001b[0;34m(name_or_buffer, mode)\u001b[0m\n\u001b[1;32m    433\u001b[0m \u001b[39mdef\u001b[39;00m \u001b[39m_open_file_like\u001b[39m(name_or_buffer, mode):\n\u001b[1;32m    434\u001b[0m     \u001b[39mif\u001b[39;00m _is_path(name_or_buffer):\n\u001b[0;32m--> 435\u001b[0m         \u001b[39mreturn\u001b[39;00m _open_file(name_or_buffer, mode)\n\u001b[1;32m    436\u001b[0m     \u001b[39melse\u001b[39;00m:\n\u001b[1;32m    437\u001b[0m         \u001b[39mif\u001b[39;00m \u001b[39m'\u001b[39m\u001b[39mw\u001b[39m\u001b[39m'\u001b[39m \u001b[39min\u001b[39;00m mode:\n",
      "File \u001b[0;32m~/projects/venv/machine_learning/lib/python3.10/site-packages/torch/serialization.py:416\u001b[0m, in \u001b[0;36m_open_file.__init__\u001b[0;34m(self, name, mode)\u001b[0m\n\u001b[1;32m    415\u001b[0m \u001b[39mdef\u001b[39;00m \u001b[39m__init__\u001b[39m(\u001b[39mself\u001b[39m, name, mode):\n\u001b[0;32m--> 416\u001b[0m     \u001b[39msuper\u001b[39m()\u001b[39m.\u001b[39m\u001b[39m__init__\u001b[39m(\u001b[39mopen\u001b[39;49m(name, mode))\n",
      "\u001b[0;31mIsADirectoryError\u001b[0m: [Errno 21] Is a directory: 'outputs/op_20/op20_rollout_20231214T134050'"
     ]
    }
   ],
   "source": [
    "run(opts)"
   ]
  }
 ],
 "metadata": {
  "kernelspec": {
   "display_name": "machine_learning",
   "language": "python",
   "name": "python3"
  },
  "language_info": {
   "codemirror_mode": {
    "name": "ipython",
    "version": 3
   },
   "file_extension": ".py",
   "mimetype": "text/x-python",
   "name": "python",
   "nbconvert_exporter": "python",
   "pygments_lexer": "ipython3",
   "version": "3.10.12"
  }
 },
 "nbformat": 4,
 "nbformat_minor": 2
}
