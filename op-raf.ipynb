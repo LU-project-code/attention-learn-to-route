{
 "cells": [
  {
   "cell_type": "code",
   "execution_count": null,
   "metadata": {},
   "outputs": [],
   "source": [
    "# from math import round\n",
    "import numpy as np\n",
    "import matplotlib.pyplot as plt\n",
    "\n",
    "import torch\n",
    "from torch.utils.data import DataLoader\n",
    "\n",
    "from utils import load_model\n",
    "from problems import OP"
   ]
  },
  {
   "cell_type": "markdown",
   "metadata": {},
   "source": [
    "# Orienteering Problem"
   ]
  },
  {
   "cell_type": "markdown",
   "metadata": {},
   "source": [
    "## Generate Dataset"
   ]
  },
  {
   "cell_type": "code",
   "execution_count": null,
   "metadata": {},
   "outputs": [],
   "source": [
    "# This is the methods that is used by calling make_dataset below\n",
    "\n",
    "# function for generating op dataset\n",
    "def generate_op_data(dataset_size, op_size, prize_type='const'):\n",
    "    depot = np.random.uniform(size=(dataset_size, 2))\n",
    "    loc = np.random.uniform(size=(dataset_size, op_size, 2))\n",
    "\n",
    "    # Methods taken from Fischetti et al. 1998\n",
    "    if prize_type == 'const':\n",
    "        prize = np.ones((dataset_size, op_size))\n",
    "    elif prize_type == 'unif':\n",
    "        prize = (1 + np.random.randint(0, 100, size=(dataset_size, op_size))) / 100.\n",
    "    else:  # Based on distance to depot\n",
    "        assert prize_type == 'dist'\n",
    "        prize_ = np.linalg.norm(depot[:, None, :] - loc, axis=-1)\n",
    "        prize = (1 + (prize_ / prize_.max(axis=-1, keepdims=True) * 99).astype(int)) / 100.\n",
    "\n",
    "    # Max length is approximately half of optimal TSP tour, such that half (a bit more) of the nodes can be visited\n",
    "    # which is maximally difficult as this has the largest number of possibilities\n",
    "    MAX_LENGTHS = {\n",
    "        20: 2.,\n",
    "        50: 3.,\n",
    "        100: 4.\n",
    "    }\n",
    "\n",
    "    return depot, loc, prize, np.full(dataset_size, MAX_LENGTHS[op_size])  # Capacity, same for whole dataset"
   ]
  },
  {
   "cell_type": "code",
   "execution_count": null,
   "metadata": {},
   "outputs": [],
   "source": [
    "# generate op data\n",
    "depot, loc, prize, max_length = generate_op_data(10000, 20)"
   ]
  },
  {
   "cell_type": "markdown",
   "metadata": {},
   "source": [
    "## Prizes with const distribution"
   ]
  },
  {
   "cell_type": "code",
   "execution_count": null,
   "metadata": {},
   "outputs": [],
   "source": [
    "n_samples = 10\n",
    "size = 20\n",
    "distribution = 'const' # distribution of prizes"
   ]
  },
  {
   "cell_type": "markdown",
   "metadata": {},
   "source": [
    "### Load Pretrained Model"
   ]
  },
  {
   "cell_type": "code",
   "execution_count": null,
   "metadata": {},
   "outputs": [],
   "source": [
    "model, _ = load_model(f'pretrained/op_{distribution}_{size}/')\n",
    "dataset = OP.make_dataset(size=size, num_samples=n_samples, distribution=distribution)"
   ]
  },
  {
   "cell_type": "markdown",
   "metadata": {},
   "source": [
    "### Visualize a scenario"
   ]
  },
  {
   "cell_type": "code",
   "execution_count": null,
   "metadata": {},
   "outputs": [],
   "source": [
    "# pick a scenario\n",
    "scenario = dataset.data[0]\n",
    "\n",
    "# plot an op graph\n",
    "plt.plot(scenario['loc'][:, 0], scenario['loc'][:, 1], 'o')\n",
    "\n",
    "# plot the depot\n",
    "plt.plot(scenario['depot'][0], scenario['depot'][1], 'o', color='red')\n",
    "\n",
    "# Add text to the plot\n",
    "for i in range(scenario['loc'].shape[0]):\n",
    "    plt.text(scenario['loc'][i, 0] + 0.01, scenario['loc'][i, 1] - 0.015, round(scenario['prize'][i].item(), 2))"
   ]
  },
  {
   "cell_type": "markdown",
   "metadata": {},
   "source": [
    "### Use the model to evaluate"
   ]
  },
  {
   "cell_type": "code",
   "execution_count": null,
   "metadata": {},
   "outputs": [],
   "source": [
    "# Need a dataloader to batch instances\n",
    "dataloader = DataLoader(dataset, batch_size=1000)\n",
    "\n",
    "# Make var works for dicts\n",
    "batch = next(iter(dataloader))\n",
    "\n",
    "# Run the model\n",
    "model.eval()\n",
    "model.set_decode_type('greedy')\n",
    "with torch.no_grad():\n",
    "    length, log_p, pi = model(batch, return_pi=True)\n",
    "tours = pi"
   ]
  },
  {
   "cell_type": "code",
   "execution_count": null,
   "metadata": {},
   "outputs": [],
   "source": [
    "# pick a scenario\n",
    "sel_scenario = 1\n",
    "scenario = dataset.data[sel_scenario]\n",
    "tour = tours[sel_scenario, :]\n",
    "\n",
    "# plot an op graph\n",
    "plt.plot(scenario['loc'][:, 0], scenario['loc'][:, 1], 'o')\n",
    "\n",
    "# plot the depot\n",
    "plt.plot(scenario['depot'][0], scenario['depot'][1], 'o', color='red')\n",
    "\n",
    "# Add text to the plot\n",
    "for i in range(scenario['loc'].shape[0]):\n",
    "    plt.text(scenario['loc'][i, 0] + 0.01, scenario['loc'][i, 1] - 0.015, round(scenario['prize'][i].item(), 2))\n",
    "\n",
    "start_x = scenario['depot'][0]\n",
    "start_y = scenario['depot'][1]\n",
    "for i, node in enumerate(tour):\n",
    "    if node != 0:\n",
    "        dx = scenario['loc'][(node - 1).item(), 0] - start_x\n",
    "        dy = scenario['loc'][(node - 1).item(), 1] - start_y\n",
    "        \n",
    "        plt.arrow(start_x, start_y, dx, dy,  length_includes_head=True, head_width=0.02,  facecolor='black')\n",
    "\n",
    "        start_x = scenario['loc'][(node - 1).item(), 0]\n",
    "        start_y = scenario['loc'][(node - 1).item(), 1]\n",
    "    "
   ]
  },
  {
   "cell_type": "markdown",
   "metadata": {},
   "source": [
    "## Prizes with uniform distribution"
   ]
  },
  {
   "cell_type": "code",
   "execution_count": null,
   "metadata": {},
   "outputs": [],
   "source": [
    "n_samples = 10\n",
    "size = 20\n",
    "distribution = 'unif' # distribution of prizes"
   ]
  },
  {
   "cell_type": "markdown",
   "metadata": {},
   "source": [
    "### Load Pretrained Model"
   ]
  },
  {
   "cell_type": "code",
   "execution_count": null,
   "metadata": {},
   "outputs": [],
   "source": [
    "model, _ = load_model(f'pretrained/op_{distribution}_{size}/')\n",
    "dataset = OP.make_dataset(size=size, num_samples=n_samples, distribution=distribution)"
   ]
  },
  {
   "cell_type": "markdown",
   "metadata": {},
   "source": [
    "### Visualize a scenario"
   ]
  },
  {
   "cell_type": "code",
   "execution_count": null,
   "metadata": {},
   "outputs": [],
   "source": [
    "# pick a scenario\n",
    "scenario = dataset.data[2]\n",
    "\n",
    "# plot an op graph\n",
    "plt.plot(scenario['loc'][:, 0], scenario['loc'][:, 1], 'o')\n",
    "\n",
    "# plot the depot\n",
    "plt.plot(scenario['depot'][0], scenario['depot'][1], 'o', color='red')\n",
    "\n",
    "# Add text to the plot\n",
    "for i in range(scenario['loc'].shape[0]):\n",
    "    plt.text(scenario['loc'][i, 0] + 0.01, scenario['loc'][i, 1] - 0.015, round(scenario['prize'][i].item(), 2))"
   ]
  },
  {
   "cell_type": "markdown",
   "metadata": {},
   "source": [
    "### Use the model to evaluate"
   ]
  },
  {
   "cell_type": "code",
   "execution_count": null,
   "metadata": {},
   "outputs": [],
   "source": [
    "# Need a dataloader to batch instances\n",
    "dataloader = DataLoader(dataset, batch_size=1000)\n",
    "\n",
    "# Make var works for dicts\n",
    "batch = next(iter(dataloader))\n",
    "\n",
    "# Run the model\n",
    "model.eval()\n",
    "model.set_decode_type('greedy')\n",
    "with torch.no_grad():\n",
    "    length, log_p, pi = model(batch, return_pi=True)\n",
    "tours = pi"
   ]
  },
  {
   "cell_type": "code",
   "execution_count": null,
   "metadata": {},
   "outputs": [],
   "source": [
    "# pick a scenario\n",
    "sel_scenario = 0\n",
    "scenario = dataset.data[sel_scenario]\n",
    "tour = tours[sel_scenario, :]\n",
    "\n",
    "# plot an op graph\n",
    "plt.plot(scenario['loc'][:, 0], scenario['loc'][:, 1], 'o')\n",
    "\n",
    "# plot the depot\n",
    "plt.plot(scenario['depot'][0], scenario['depot'][1], 'o', color='red')\n",
    "\n",
    "# Add text to the plot\n",
    "for i in range(scenario['loc'].shape[0]):\n",
    "    plt.text(scenario['loc'][i, 0] + 0.01, scenario['loc'][i, 1] - 0.015, round(scenario['prize'][i].item(), 2))\n",
    "\n",
    "start_x = scenario['depot'][0]\n",
    "start_y = scenario['depot'][1]\n",
    "for i, node in enumerate(tour):\n",
    "    if node != 0:\n",
    "        dx = scenario['loc'][(node - 1).item(), 0] - start_x\n",
    "        dy = scenario['loc'][(node - 1).item(), 1] - start_y\n",
    "        \n",
    "        plt.arrow(start_x, start_y, dx, dy,  length_includes_head=True, head_width=0.02,  facecolor='black')\n",
    "\n",
    "        start_x = scenario['loc'][(node - 1).item(), 0]\n",
    "        start_y = scenario['loc'][(node - 1).item(), 1]\n",
    "    "
   ]
  },
  {
   "cell_type": "code",
   "execution_count": null,
   "metadata": {},
   "outputs": [],
   "source": [
    "dataset.data[1]['max_length'] = torch.tensor(5.0)"
   ]
  },
  {
   "cell_type": "code",
   "execution_count": null,
   "metadata": {},
   "outputs": [],
   "source": [
    "dataset.data[0]['prize'] = torch.rand(20) * 0.2"
   ]
  },
  {
   "cell_type": "code",
   "execution_count": null,
   "metadata": {},
   "outputs": [],
   "source": [
    "torch.rand(10) * 0.2"
   ]
  },
  {
   "cell_type": "code",
   "execution_count": null,
   "metadata": {},
   "outputs": [],
   "source": [
    "dataset.data[0]['max_length']"
   ]
  },
  {
   "cell_type": "code",
   "execution_count": null,
   "metadata": {},
   "outputs": [],
   "source": [
    "dataset.data[0]['max_length'] = torch.tensor(4.0)"
   ]
  },
  {
   "cell_type": "markdown",
   "metadata": {},
   "source": [
    "# Training new models"
   ]
  },
  {
   "cell_type": "code",
   "execution_count": 5,
   "metadata": {},
   "outputs": [
    {
     "data": {
      "text/plain": [
       "<module 'run_shirin' from '/home/lunet/cosd5/projects/LU-project-code/attention-learn-to-route/run_shirin.py'>"
      ]
     },
     "execution_count": 5,
     "metadata": {},
     "output_type": "execute_result"
    }
   ],
   "source": [
    "from importlib import reload\n",
    "import run_shirin\n",
    "\n",
    "reload(run_shirin)"
   ]
  },
  {
   "cell_type": "code",
   "execution_count": 12,
   "metadata": {},
   "outputs": [],
   "source": [
    "class RunOption(object):\n",
    "    pass\n",
    "\n",
    "run_option = RunOption()\n",
    "run_option.graph_size = 20\n",
    "run_option.seed = 1234\n",
    "run_option.problem = 'tsp'\n",
    "run_option.load_path = 'data/tsp/tsp20_validation_seed4321.pkl'\n",
    "run_option.resume = None\n",
    "run_option.model = 'attention'\n",
    "run_option.embedding_dim = 128 # Embedding dimension for the encoder\n",
    "run_option.hidden_dim = 64 # I think this is not being used\n",
    "run_option.n_encode_layers = 2 # default value from attention_model\n",
    "run_option.normalization = 'batch' # default value from attention_model\n",
    "run_option.tanh_clipping = 10 # value from the paper\n",
    "run_option.checkpoint_encoder = False # default value from attention_model\n",
    "run_option.opts.shrink_size = None # default value from attention_model"
   ]
  },
  {
   "cell_type": "code",
   "execution_count": 13,
   "metadata": {},
   "outputs": [
    {
     "name": "stdout",
     "output_type": "stream",
     "text": [
      "{'embedding_dim': 128,\n",
      " 'graph_size': 20,\n",
      " 'hidden_dim': 64,\n",
      " 'load_path': 'data/tsp/tsp20_validation_seed4321.pkl',\n",
      " 'model': 'attention',\n",
      " 'problem': 'tsp',\n",
      " 'resume': None,\n",
      " 'seed': 1234}\n",
      "  [*] Loading data from data/tsp/tsp20_validation_seed4321.pkl\n"
     ]
    },
    {
     "ename": "AttributeError",
     "evalue": "'RunOption' object has no attribute 'n_encode_layers'",
     "output_type": "error",
     "traceback": [
      "\u001b[0;31m---------------------------------------------------------------------------\u001b[0m",
      "\u001b[0;31mAttributeError\u001b[0m                            Traceback (most recent call last)",
      "\u001b[1;32m/home/lunet/cosd5/projects/LU-project-code/attention-learn-to-route/op-raf.ipynb Cell 32\u001b[0m line \u001b[0;36m1\n\u001b[0;32m----> <a href='vscode-notebook-cell:/home/lunet/cosd5/projects/LU-project-code/attention-learn-to-route/op-raf.ipynb#X43sZmlsZQ%3D%3D?line=0'>1</a>\u001b[0m run_shirin\u001b[39m.\u001b[39;49mrun(run_option)\n",
      "File \u001b[0;32m~/projects/LU-project-code/attention-learn-to-route/run_shirin.py:63\u001b[0m, in \u001b[0;36mrun\u001b[0;34m(opts)\u001b[0m\n\u001b[1;32m     54\u001b[0m model_class \u001b[39m=\u001b[39m {\n\u001b[1;32m     55\u001b[0m     \u001b[39m'\u001b[39m\u001b[39mattention\u001b[39m\u001b[39m'\u001b[39m: AttentionModel,\n\u001b[1;32m     56\u001b[0m     \u001b[39m'\u001b[39m\u001b[39mpointer\u001b[39m\u001b[39m'\u001b[39m: PointerNetwork\n\u001b[1;32m     57\u001b[0m }\u001b[39m.\u001b[39mget(opts\u001b[39m.\u001b[39mmodel, \u001b[39mNone\u001b[39;00m)\n\u001b[1;32m     58\u001b[0m \u001b[39massert\u001b[39;00m model_class \u001b[39mis\u001b[39;00m \u001b[39mnot\u001b[39;00m \u001b[39mNone\u001b[39;00m, \u001b[39m\"\u001b[39m\u001b[39mUnknown model: \u001b[39m\u001b[39m{}\u001b[39;00m\u001b[39m\"\u001b[39m\u001b[39m.\u001b[39mformat(model_class)\n\u001b[1;32m     59\u001b[0m model \u001b[39m=\u001b[39m model_class(\n\u001b[1;32m     60\u001b[0m     opts\u001b[39m.\u001b[39membedding_dim,\n\u001b[1;32m     61\u001b[0m     opts\u001b[39m.\u001b[39mhidden_dim,\n\u001b[1;32m     62\u001b[0m     problem,\n\u001b[0;32m---> 63\u001b[0m     n_encode_layers\u001b[39m=\u001b[39mopts\u001b[39m.\u001b[39;49mn_encode_layers,\n\u001b[1;32m     64\u001b[0m     mask_inner\u001b[39m=\u001b[39m\u001b[39mTrue\u001b[39;00m,\n\u001b[1;32m     65\u001b[0m     mask_logits\u001b[39m=\u001b[39m\u001b[39mTrue\u001b[39;00m,\n\u001b[1;32m     66\u001b[0m     normalization\u001b[39m=\u001b[39mopts\u001b[39m.\u001b[39mnormalization,\n\u001b[1;32m     67\u001b[0m     tanh_clipping\u001b[39m=\u001b[39mopts\u001b[39m.\u001b[39mtanh_clipping,\n\u001b[1;32m     68\u001b[0m     checkpoint_encoder\u001b[39m=\u001b[39mopts\u001b[39m.\u001b[39mcheckpoint_encoder,\n\u001b[1;32m     69\u001b[0m     shrink_size\u001b[39m=\u001b[39mopts\u001b[39m.\u001b[39mshrink_size\n\u001b[1;32m     70\u001b[0m )\u001b[39m.\u001b[39mto(opts\u001b[39m.\u001b[39mdevice)\n\u001b[1;32m     72\u001b[0m \u001b[39mif\u001b[39;00m opts\u001b[39m.\u001b[39muse_cuda \u001b[39mand\u001b[39;00m torch\u001b[39m.\u001b[39mcuda\u001b[39m.\u001b[39mdevice_count() \u001b[39m>\u001b[39m \u001b[39m1\u001b[39m:\n\u001b[1;32m     73\u001b[0m     model \u001b[39m=\u001b[39m torch\u001b[39m.\u001b[39mnn\u001b[39m.\u001b[39mDataParallel(model)\n",
      "\u001b[0;31mAttributeError\u001b[0m: 'RunOption' object has no attribute 'n_encode_layers'"
     ]
    }
   ],
   "source": [
    "run_shirin.run(run_option)"
   ]
  },
  {
   "cell_type": "code",
   "execution_count": null,
   "metadata": {},
   "outputs": [],
   "source": []
  }
 ],
 "metadata": {
  "kernelspec": {
   "display_name": "machine_learning",
   "language": "python",
   "name": "python3"
  },
  "language_info": {
   "codemirror_mode": {
    "name": "ipython",
    "version": 3
   },
   "file_extension": ".py",
   "mimetype": "text/x-python",
   "name": "python",
   "nbconvert_exporter": "python",
   "pygments_lexer": "ipython3",
   "version": "3.10.12"
  }
 },
 "nbformat": 4,
 "nbformat_minor": 2
}
