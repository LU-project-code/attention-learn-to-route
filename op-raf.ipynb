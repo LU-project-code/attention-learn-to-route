{
 "cells": [
  {
   "cell_type": "code",
   "execution_count": null,
   "metadata": {},
   "outputs": [],
   "source": [
    "# from math import round\n",
    "import numpy as np\n",
    "import matplotlib.pyplot as plt\n",
    "\n",
    "import torch\n",
    "from torch.utils.data import DataLoader\n",
    "\n",
    "from utils import load_model\n",
    "from problems import OP"
   ]
  },
  {
   "cell_type": "markdown",
   "metadata": {},
   "source": [
    "# Orienteering Problem"
   ]
  },
  {
   "cell_type": "markdown",
   "metadata": {},
   "source": [
    "## Generate Dataset"
   ]
  },
  {
   "cell_type": "code",
   "execution_count": null,
   "metadata": {},
   "outputs": [],
   "source": [
    "# This is the methods that is used by calling make_dataset below\n",
    "\n",
    "# function for generating op dataset\n",
    "def generate_op_data(dataset_size, op_size, prize_type='const'):\n",
    "    depot = np.random.uniform(size=(dataset_size, 2))\n",
    "    loc = np.random.uniform(size=(dataset_size, op_size, 2))\n",
    "\n",
    "    # Methods taken from Fischetti et al. 1998\n",
    "    if prize_type == 'const':\n",
    "        prize = np.ones((dataset_size, op_size))\n",
    "    elif prize_type == 'unif':\n",
    "        prize = (1 + np.random.randint(0, 100, size=(dataset_size, op_size))) / 100.\n",
    "    else:  # Based on distance to depot\n",
    "        assert prize_type == 'dist'\n",
    "        prize_ = np.linalg.norm(depot[:, None, :] - loc, axis=-1)\n",
    "        prize = (1 + (prize_ / prize_.max(axis=-1, keepdims=True) * 99).astype(int)) / 100.\n",
    "\n",
    "    # Max length is approximately half of optimal TSP tour, such that half (a bit more) of the nodes can be visited\n",
    "    # which is maximally difficult as this has the largest number of possibilities\n",
    "    MAX_LENGTHS = {\n",
    "        20: 2.,\n",
    "        50: 3.,\n",
    "        100: 4.\n",
    "    }\n",
    "\n",
    "    return depot, loc, prize, np.full(dataset_size, MAX_LENGTHS[op_size])  # Capacity, same for whole dataset"
   ]
  },
  {
   "cell_type": "code",
   "execution_count": null,
   "metadata": {},
   "outputs": [],
   "source": [
    "# generate op data\n",
    "depot, loc, prize, max_length = generate_op_data(10000, 20)"
   ]
  },
  {
   "cell_type": "markdown",
   "metadata": {},
   "source": [
    "## Prizes with const distribution"
   ]
  },
  {
   "cell_type": "code",
   "execution_count": null,
   "metadata": {},
   "outputs": [],
   "source": [
    "n_samples = 10\n",
    "size = 20\n",
    "distribution = 'const' # distribution of prizes"
   ]
  },
  {
   "cell_type": "markdown",
   "metadata": {},
   "source": [
    "### Load Pretrained Model"
   ]
  },
  {
   "cell_type": "code",
   "execution_count": null,
   "metadata": {},
   "outputs": [],
   "source": [
    "model, _ = load_model(f'pretrained/op_{distribution}_{size}/')\n",
    "dataset = OP.make_dataset(size=size, num_samples=n_samples, distribution=distribution)"
   ]
  },
  {
   "cell_type": "markdown",
   "metadata": {},
   "source": [
    "### Visualize a scenario"
   ]
  },
  {
   "cell_type": "code",
   "execution_count": null,
   "metadata": {},
   "outputs": [],
   "source": [
    "# pick a scenario\n",
    "scenario = dataset.data[0]\n",
    "\n",
    "# plot an op graph\n",
    "plt.plot(scenario['loc'][:, 0], scenario['loc'][:, 1], 'o')\n",
    "\n",
    "# plot the depot\n",
    "plt.plot(scenario['depot'][0], scenario['depot'][1], 'o', color='red')\n",
    "\n",
    "# Add text to the plot\n",
    "for i in range(scenario['loc'].shape[0]):\n",
    "    plt.text(scenario['loc'][i, 0] + 0.01, scenario['loc'][i, 1] - 0.015, round(scenario['prize'][i].item(), 2))"
   ]
  },
  {
   "cell_type": "markdown",
   "metadata": {},
   "source": [
    "### Use the model to evaluate"
   ]
  },
  {
   "cell_type": "code",
   "execution_count": null,
   "metadata": {},
   "outputs": [],
   "source": [
    "# Need a dataloader to batch instances\n",
    "dataloader = DataLoader(dataset, batch_size=1000)\n",
    "\n",
    "# Make var works for dicts\n",
    "batch = next(iter(dataloader))\n",
    "\n",
    "# Run the model\n",
    "model.eval()\n",
    "model.set_decode_type('greedy')\n",
    "with torch.no_grad():\n",
    "    length, log_p, pi = model(batch, return_pi=True)\n",
    "tours = pi"
   ]
  },
  {
   "cell_type": "code",
   "execution_count": null,
   "metadata": {},
   "outputs": [],
   "source": [
    "# pick a scenario\n",
    "sel_scenario = 1\n",
    "scenario = dataset.data[sel_scenario]\n",
    "tour = tours[sel_scenario, :]\n",
    "\n",
    "# plot an op graph\n",
    "plt.plot(scenario['loc'][:, 0], scenario['loc'][:, 1], 'o')\n",
    "\n",
    "# plot the depot\n",
    "plt.plot(scenario['depot'][0], scenario['depot'][1], 'o', color='red')\n",
    "\n",
    "# Add text to the plot\n",
    "for i in range(scenario['loc'].shape[0]):\n",
    "    plt.text(scenario['loc'][i, 0] + 0.01, scenario['loc'][i, 1] - 0.015, round(scenario['prize'][i].item(), 2))\n",
    "\n",
    "start_x = scenario['depot'][0]\n",
    "start_y = scenario['depot'][1]\n",
    "for i, node in enumerate(tour):\n",
    "    if node != 0:\n",
    "        dx = scenario['loc'][(node - 1).item(), 0] - start_x\n",
    "        dy = scenario['loc'][(node - 1).item(), 1] - start_y\n",
    "        \n",
    "        plt.arrow(start_x, start_y, dx, dy,  length_includes_head=True, head_width=0.02,  facecolor='black')\n",
    "\n",
    "        start_x = scenario['loc'][(node - 1).item(), 0]\n",
    "        start_y = scenario['loc'][(node - 1).item(), 1]\n",
    "    "
   ]
  },
  {
   "cell_type": "markdown",
   "metadata": {},
   "source": [
    "## Prizes with uniform distribution"
   ]
  },
  {
   "cell_type": "code",
   "execution_count": null,
   "metadata": {},
   "outputs": [],
   "source": [
    "n_samples = 10\n",
    "size = 20\n",
    "distribution = 'unif' # distribution of prizes"
   ]
  },
  {
   "cell_type": "markdown",
   "metadata": {},
   "source": [
    "### Load Pretrained Model"
   ]
  },
  {
   "cell_type": "code",
   "execution_count": null,
   "metadata": {},
   "outputs": [],
   "source": [
    "model, _ = load_model(f'pretrained/op_{distribution}_{size}/')\n",
    "dataset = OP.make_dataset(size=size, num_samples=n_samples, distribution=distribution)"
   ]
  },
  {
   "cell_type": "markdown",
   "metadata": {},
   "source": [
    "### Visualize a scenario"
   ]
  },
  {
   "cell_type": "code",
   "execution_count": null,
   "metadata": {},
   "outputs": [],
   "source": [
    "# pick a scenario\n",
    "scenario = dataset.data[2]\n",
    "\n",
    "# plot an op graph\n",
    "plt.plot(scenario['loc'][:, 0], scenario['loc'][:, 1], 'o')\n",
    "\n",
    "# plot the depot\n",
    "plt.plot(scenario['depot'][0], scenario['depot'][1], 'o', color='red')\n",
    "\n",
    "# Add text to the plot\n",
    "for i in range(scenario['loc'].shape[0]):\n",
    "    plt.text(scenario['loc'][i, 0] + 0.01, scenario['loc'][i, 1] - 0.015, round(scenario['prize'][i].item(), 2))"
   ]
  },
  {
   "cell_type": "markdown",
   "metadata": {},
   "source": [
    "### Use the model to evaluate"
   ]
  },
  {
   "cell_type": "code",
   "execution_count": null,
   "metadata": {},
   "outputs": [],
   "source": [
    "# Need a dataloader to batch instances\n",
    "dataloader = DataLoader(dataset, batch_size=1000)\n",
    "\n",
    "# Make var works for dicts\n",
    "batch = next(iter(dataloader))\n",
    "\n",
    "# Run the model\n",
    "model.eval()\n",
    "model.set_decode_type('greedy')\n",
    "with torch.no_grad():\n",
    "    length, log_p, pi = model(batch, return_pi=True)\n",
    "tours = pi"
   ]
  },
  {
   "cell_type": "code",
   "execution_count": null,
   "metadata": {},
   "outputs": [],
   "source": [
    "# pick a scenario\n",
    "sel_scenario = 0\n",
    "scenario = dataset.data[sel_scenario]\n",
    "tour = tours[sel_scenario, :]\n",
    "\n",
    "# plot an op graph\n",
    "plt.plot(scenario['loc'][:, 0], scenario['loc'][:, 1], 'o')\n",
    "\n",
    "# plot the depot\n",
    "plt.plot(scenario['depot'][0], scenario['depot'][1], 'o', color='red')\n",
    "\n",
    "# Add text to the plot\n",
    "for i in range(scenario['loc'].shape[0]):\n",
    "    plt.text(scenario['loc'][i, 0] + 0.01, scenario['loc'][i, 1] - 0.015, round(scenario['prize'][i].item(), 2))\n",
    "\n",
    "start_x = scenario['depot'][0]\n",
    "start_y = scenario['depot'][1]\n",
    "for i, node in enumerate(tour):\n",
    "    if node != 0:\n",
    "        dx = scenario['loc'][(node - 1).item(), 0] - start_x\n",
    "        dy = scenario['loc'][(node - 1).item(), 1] - start_y\n",
    "        \n",
    "        plt.arrow(start_x, start_y, dx, dy,  length_includes_head=True, head_width=0.02,  facecolor='black')\n",
    "\n",
    "        start_x = scenario['loc'][(node - 1).item(), 0]\n",
    "        start_y = scenario['loc'][(node - 1).item(), 1]\n",
    "    "
   ]
  },
  {
   "cell_type": "code",
   "execution_count": null,
   "metadata": {},
   "outputs": [],
   "source": [
    "dataset.data[1]['max_length'] = torch.tensor(5.0)"
   ]
  },
  {
   "cell_type": "code",
   "execution_count": null,
   "metadata": {},
   "outputs": [],
   "source": [
    "dataset.data[0]['prize'] = torch.rand(20) * 0.2"
   ]
  },
  {
   "cell_type": "code",
   "execution_count": null,
   "metadata": {},
   "outputs": [],
   "source": [
    "torch.rand(10) * 0.2"
   ]
  },
  {
   "cell_type": "code",
   "execution_count": null,
   "metadata": {},
   "outputs": [],
   "source": [
    "dataset.data[0]['max_length']"
   ]
  },
  {
   "cell_type": "code",
   "execution_count": null,
   "metadata": {},
   "outputs": [],
   "source": [
    "dataset.data[0]['max_length'] = torch.tensor(4.0)"
   ]
  },
  {
   "cell_type": "markdown",
   "metadata": {},
   "source": [
    "# Training new models"
   ]
  },
  {
   "cell_type": "code",
   "execution_count": 10,
   "metadata": {},
   "outputs": [],
   "source": [
    "from run import run"
   ]
  },
  {
   "cell_type": "code",
   "execution_count": 15,
   "metadata": {},
   "outputs": [],
   "source": [
    "from options import get_options\n",
    "\n",
    "opts = get_options(['--problem', 'op', '--data_distribution', 'dist', '--baseline', 'rollout', '--resume', 'outputs/op_20/op20_rollout_20231214T134050/epoch-99.pt', '--run_name', 'op20_rollout'])"
   ]
  },
  {
   "cell_type": "code",
   "execution_count": null,
   "metadata": {},
   "outputs": [],
   "source": [
    "run(opts)"
   ]
  }
 ],
 "metadata": {
  "kernelspec": {
   "display_name": "machine_learning",
   "language": "python",
   "name": "python3"
  },
  "language_info": {
   "codemirror_mode": {
    "name": "ipython",
    "version": 3
   },
   "file_extension": ".py",
   "mimetype": "text/x-python",
   "name": "python",
   "nbconvert_exporter": "python",
   "pygments_lexer": "ipython3",
   "version": "3.10.12"
  }
 },
 "nbformat": 4,
 "nbformat_minor": 2
}
