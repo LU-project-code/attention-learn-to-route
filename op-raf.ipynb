{
 "cells": [
  {
   "cell_type": "code",
   "execution_count": 1,
   "metadata": {},
   "outputs": [],
   "source": [
    "import numpy as np\n",
    "import matplotlib.pyplot as plt"
   ]
  },
  {
   "cell_type": "code",
   "execution_count": 2,
   "metadata": {},
   "outputs": [],
   "source": [
    "# function for generating op dataset\n",
    "def generate_op_data(dataset_size, op_size, prize_type='const'):\n",
    "    depot = np.random.uniform(size=(dataset_size, 2))\n",
    "    loc = np.random.uniform(size=(dataset_size, op_size, 2))\n",
    "\n",
    "    # Methods taken from Fischetti et al. 1998\n",
    "    if prize_type == 'const':\n",
    "        prize = np.ones((dataset_size, op_size))\n",
    "    elif prize_type == 'unif':\n",
    "        prize = (1 + np.random.randint(0, 100, size=(dataset_size, op_size))) / 100.\n",
    "    else:  # Based on distance to depot\n",
    "        assert prize_type == 'dist'\n",
    "        prize_ = np.linalg.norm(depot[:, None, :] - loc, axis=-1)\n",
    "        prize = (1 + (prize_ / prize_.max(axis=-1, keepdims=True) * 99).astype(int)) / 100.\n",
    "\n",
    "    # Max length is approximately half of optimal TSP tour, such that half (a bit more) of the nodes can be visited\n",
    "    # which is maximally difficult as this has the largest number of possibilities\n",
    "    MAX_LENGTHS = {\n",
    "        20: 2.,\n",
    "        50: 3.,\n",
    "        100: 4.\n",
    "    }\n",
    "\n",
    "    return depot, loc, prize, np.full(dataset_size, MAX_LENGTHS[op_size])  # Capacity, same for whole dataset"
   ]
  },
  {
   "cell_type": "code",
   "execution_count": 3,
   "metadata": {},
   "outputs": [],
   "source": [
    "# generate op data\n",
    "depot, loc, prize, max_length = generate_op_data(10000, 20)"
   ]
  },
  {
   "cell_type": "code",
   "execution_count": 4,
   "metadata": {},
   "outputs": [
    {
     "data": {
      "text/plain": [
       "(20, 2)"
      ]
     },
     "execution_count": 4,
     "metadata": {},
     "output_type": "execute_result"
    }
   ],
   "source": [
    "loc[0].shape"
   ]
  },
  {
   "cell_type": "code",
   "execution_count": 5,
   "metadata": {},
   "outputs": [
    {
     "data": {
      "text/plain": [
       "[<matplotlib.lines.Line2D at 0x113bfb430>]"
      ]
     },
     "execution_count": 5,
     "metadata": {},
     "output_type": "execute_result"
    },
    {
     "data": {
      "image/png": "[encoded data removed]",
      "text/plain": [
       "<Figure size 640x480 with 1 Axes>"
      ]
     },
     "metadata": {},
     "output_type": "display_data"
    }
   ],
   "source": [
    "# plot an op graph\n",
    "plt.plot(loc[0][:, 0], loc[0][:, 1], 'o')"
   ]
  },
  {
   "cell_type": "code",
   "execution_count": null,
   "metadata": {},
   "outputs": [],
   "source": []
  }
 ],
 "metadata": {
  "kernelspec": {
   "display_name": "machine_learning",
   "language": "python",
   "name": "python3"
  },
  "language_info": {
   "codemirror_mode": {
    "name": "ipython",
    "version": 3
   },
   "file_extension": ".py",
   "mimetype": "text/x-python",
   "name": "python",
   "nbconvert_exporter": "python",
   "pygments_lexer": "ipython3",
   "version": "3.9.6"
  }
 },
 "nbformat": 4,
 "nbformat_minor": 2
}
